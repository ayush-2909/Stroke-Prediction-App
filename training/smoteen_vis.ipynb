{
 "metadata": {
  "language_info": {
   "codemirror_mode": {
    "name": "ipython",
    "version": 3
   },
   "file_extension": ".py",
   "mimetype": "text/x-python",
   "name": "python",
   "nbconvert_exporter": "python",
   "pygments_lexer": "ipython3",
   "version": "3.8.6"
  },
  "orig_nbformat": 2,
  "kernelspec": {
   "name": "python38664bit4b376197a27441028b9461a0403b5c81",
   "display_name": "Python 3.8.6 64-bit",
   "language": "python"
  }
 },
 "nbformat": 4,
 "nbformat_minor": 2,
 "cells": [
  {
   "cell_type": "code",
   "execution_count": 23,
   "metadata": {},
   "outputs": [],
   "source": [
    "from imblearn.combine import SMOTEENN\n",
    "import pandas as pd\n",
    "from sklearn.preprocessing import FunctionTransformer,StandardScaler\n",
    "import numpy as np\n",
    "import seaborn as sns\n",
    "from imblearn.pipeline import Pipeline\n",
    "from dataprocessing import load_data,add_diabetes,impute,one_hot_encode,add_bodytype,add_missing_cols,get_all_tags,add_preexisting"
   ]
  },
  {
   "cell_type": "code",
   "execution_count": 26,
   "metadata": {},
   "outputs": [],
   "source": [
    "def pipeline():\n",
    "    \"\"\"\n",
    "    create the pipeline for the model, and optimize with gridsearch\n",
    "    \"\"\"\n",
    "    full_df = pd.read_csv(\"../data/healthcare-dataset-stroke-data.csv\").drop(columns = [\"stroke\",'id'],axis=1)\n",
    "    #transform functions to make the pipeline work\n",
    "    one_hot_encode_transformed = FunctionTransformer(one_hot_encode)\n",
    "    impute_transformed = FunctionTransformer(impute)\n",
    "    add_bodytype_transformed = FunctionTransformer(add_bodytype)\n",
    "    add_diabetes_transformed = FunctionTransformer(add_diabetes)\n",
    "    add_preexisting_transformed = FunctionTransformer(add_preexisting)\n",
    "    add_missing_cols_transformed = FunctionTransformer(add_missing_cols,kw_args={\"total_tags\":get_all_tags(full_df)})\n",
    "\n",
    "\n",
    "    pipeline = Pipeline([\n",
    "\n",
    "  \n",
    "    (\"add_bodytype\",add_bodytype_transformed),\n",
    "    (\"add_diabetes\",add_diabetes_transformed),\n",
    "    (\"add_preexisting\",add_preexisting_transformed),\n",
    "    (\"impute\",impute_transformed),\n",
    "    (\"one_hot_encode\",one_hot_encode_transformed)])\n",
    "    #(\"add_missing_cols\",add_missing_cols_transformed)])\n",
    "    #use all available threads\n",
    "    #(\"over_under\" , SMOTEENN())])\n",
    "\n",
    "    return pipeline"
   ]
  },
  {
   "cell_type": "code",
   "execution_count": 27,
   "metadata": {},
   "outputs": [
    {
     "output_type": "stream",
     "name": "stdout",
     "text": [
      "       age  hypertension  heart_disease  avg_glucose_level        bmi  \\\n0     67.0           0.0            1.0             228.69  36.600000   \n1     61.0           0.0            0.0             202.21  28.893237   \n2     80.0           0.0            1.0             105.92  32.500000   \n3     49.0           0.0            0.0             171.23  34.400000   \n4     79.0           1.0            0.0             174.12  24.000000   \n...    ...           ...            ...                ...        ...   \n5105  80.0           1.0            0.0              83.75  28.893237   \n5106  81.0           0.0            0.0             125.20  40.000000   \n5107  35.0           0.0            0.0              82.99  30.600000   \n5108  51.0           0.0            0.0             166.29  25.600000   \n5109  44.0           0.0            0.0              85.28  26.200000   \n\n      gender_Female  gender_Male  gender_Other  ever_married_No  \\\n0               0.0          1.0           0.0              0.0   \n1               1.0          0.0           0.0              0.0   \n2               0.0          1.0           0.0              0.0   \n3               1.0          0.0           0.0              0.0   \n4               1.0          0.0           0.0              0.0   \n...             ...          ...           ...              ...   \n5105            1.0          0.0           0.0              0.0   \n5106            1.0          0.0           0.0              0.0   \n5107            1.0          0.0           0.0              0.0   \n5108            0.0          1.0           0.0              0.0   \n5109            1.0          0.0           0.0              0.0   \n\n      ever_married_Yes  ...  Residence_type_Rural  Residence_type_Urban  \\\n0                  1.0  ...                   0.0                   1.0   \n1                  1.0  ...                   1.0                   0.0   \n2                  1.0  ...                   1.0                   0.0   \n3                  1.0  ...                   0.0                   1.0   \n4                  1.0  ...                   1.0                   0.0   \n...                ...  ...                   ...                   ...   \n5105               1.0  ...                   0.0                   1.0   \n5106               1.0  ...                   0.0                   1.0   \n5107               1.0  ...                   1.0                   0.0   \n5108               1.0  ...                   1.0                   0.0   \n5109               1.0  ...                   0.0                   1.0   \n\n      smoking_status_Unknown  smoking_status_formerly smoked  \\\n0                        0.0                             1.0   \n1                        0.0                             0.0   \n2                        0.0                             0.0   \n3                        0.0                             0.0   \n4                        0.0                             0.0   \n...                      ...                             ...   \n5105                     0.0                             0.0   \n5106                     0.0                             0.0   \n5107                     0.0                             0.0   \n5108                     0.0                             1.0   \n5109                     1.0                             0.0   \n\n      smoking_status_never smoked  smoking_status_smokes  body_type_Normal  \\\n0                             0.0                    0.0               0.0   \n1                             1.0                    0.0               0.0   \n2                             1.0                    0.0               0.0   \n3                             0.0                    1.0               0.0   \n4                             1.0                    0.0               1.0   \n...                           ...                    ...               ...   \n5105                          1.0                    0.0               0.0   \n5106                          1.0                    0.0               0.0   \n5107                          1.0                    0.0               0.0   \n5108                          0.0                    0.0               0.0   \n5109                          0.0                    0.0               0.0   \n\n      body_type_Obese  body_type_Overweight  body_type_Underweight  \n0                 1.0                   0.0                    0.0  \n1                 0.0                   1.0                    0.0  \n2                 1.0                   0.0                    0.0  \n3                 1.0                   0.0                    0.0  \n4                 0.0                   0.0                    0.0  \n...               ...                   ...                    ...  \n5105              0.0                   1.0                    0.0  \n5106              1.0                   0.0                    0.0  \n5107              1.0                   0.0                    0.0  \n5108              0.0                   1.0                    0.0  \n5109              0.0                   1.0                    0.0  \n\n[5110 rows x 25 columns]\n        age  hypertension  heart_disease  avg_glucose_level        bmi  \\\nid                                                                       \n9046   67.0           0.0            1.0             228.69  36.600000   \n51676  61.0           0.0            0.0             202.21  28.893237   \n31112  80.0           0.0            1.0             105.92  32.500000   \n60182  49.0           0.0            0.0             171.23  34.400000   \n1665   79.0           1.0            0.0             174.12  24.000000   \n...     ...           ...            ...                ...        ...   \n18234  80.0           1.0            0.0              83.75  28.893237   \n44873  81.0           0.0            0.0             125.20  40.000000   \n19723  35.0           0.0            0.0              82.99  30.600000   \n37544  51.0           0.0            0.0             166.29  25.600000   \n44679  44.0           0.0            0.0              85.28  26.200000   \n\n       stroke  is_user_diabetic  pre_existing  gender_Female  gender_Male  \\\nid                                                                          \n9046      1.0               1.0           1.0            0.0          1.0   \n51676     1.0               1.0           0.0            1.0          0.0   \n31112     1.0               0.0           1.0            0.0          1.0   \n60182     1.0               0.0           0.0            1.0          0.0   \n1665      1.0               0.0           1.0            1.0          0.0   \n...       ...               ...           ...            ...          ...   \n18234     0.0               0.0           1.0            1.0          0.0   \n44873     0.0               0.0           0.0            1.0          0.0   \n19723     0.0               0.0           0.0            1.0          0.0   \n37544     0.0               0.0           0.0            0.0          1.0   \n44679     0.0               0.0           0.0            1.0          0.0   \n\n       ...  Residence_type_Rural  Residence_type_Urban  \\\nid     ...                                               \n9046   ...                   0.0                   1.0   \n51676  ...                   1.0                   0.0   \n31112  ...                   1.0                   0.0   \n60182  ...                   0.0                   1.0   \n1665   ...                   1.0                   0.0   \n...    ...                   ...                   ...   \n18234  ...                   0.0                   1.0   \n44873  ...                   0.0                   1.0   \n19723  ...                   1.0                   0.0   \n37544  ...                   1.0                   0.0   \n44679  ...                   0.0                   1.0   \n\n       smoking_status_Unknown  smoking_status_formerly smoked  \\\nid                                                              \n9046                      0.0                             1.0   \n51676                     0.0                             0.0   \n31112                     0.0                             0.0   \n60182                     0.0                             0.0   \n1665                      0.0                             0.0   \n...                       ...                             ...   \n18234                     0.0                             0.0   \n44873                     0.0                             0.0   \n19723                     0.0                             0.0   \n37544                     0.0                             1.0   \n44679                     1.0                             0.0   \n\n       smoking_status_never smoked  smoking_status_smokes  body_type_Normal  \\\nid                                                                            \n9046                           0.0                    0.0               0.0   \n51676                          1.0                    0.0               0.0   \n31112                          1.0                    0.0               0.0   \n60182                          0.0                    1.0               0.0   \n1665                           1.0                    0.0               1.0   \n...                            ...                    ...               ...   \n18234                          1.0                    0.0               0.0   \n44873                          1.0                    0.0               0.0   \n19723                          1.0                    0.0               0.0   \n37544                          0.0                    0.0               0.0   \n44679                          0.0                    0.0               0.0   \n\n       body_type_Obese  body_type_Overweight  body_type_Underweight  \nid                                                                   \n9046               1.0                   0.0                    0.0  \n51676              0.0                   1.0                    0.0  \n31112              1.0                   0.0                    0.0  \n60182              1.0                   0.0                    0.0  \n1665               0.0                   0.0                    0.0  \n...                ...                   ...                    ...  \n18234              0.0                   1.0                    0.0  \n44873              1.0                   0.0                    0.0  \n19723              1.0                   0.0                    0.0  \n37544              0.0                   1.0                    0.0  \n44679              0.0                   1.0                    0.0  \n\n[5110 rows x 28 columns]\n"
     ]
    }
   ],
   "source": [
    "#one hot encode and prepare data \n",
    "no_smoteen_data = pd.read_csv(\"../data/healthcare-dataset-stroke-data.csv\",index_col=\"id\")\n",
    "model = pipeline()\n",
    "data = model.fit_transform(no_smoteen_data)\n",
    "#find the number of strokes in the data and non strokes\n",
    "num_of_strokes = data[\"stroke\"].sum()\n",
    "num_of_non_strokes = data.shape[0] - num_of_strokes"
   ]
  },
  {
   "cell_type": "code",
   "execution_count": null,
   "metadata": {},
   "outputs": [],
   "source": [
    "#plot the data in a pie chart"
   ]
  }
 ]
}